{
 "cells": [
  {
   "cell_type": "code",
   "execution_count": 54,
   "metadata": {},
   "outputs": [],
   "source": [
    "import numpy as np\n",
    "import pandas as pd\n",
    "from scipy import stats"
   ]
  },
  {
   "cell_type": "code",
   "execution_count": 55,
   "metadata": {},
   "outputs": [],
   "source": [
    "table = pd.read_html('https://en.wikipedia.org/wiki/Chi-squared_test')"
   ]
  },
  {
   "cell_type": "code",
   "execution_count": 56,
   "metadata": {},
   "outputs": [
    {
     "data": {
      "text/plain": [
       "[     Unnamed: 0    A    B    C    D  total\n",
       " 0  White collar   90   60  104   95    349\n",
       " 1   Blue collar   30   50   51   20    151\n",
       " 2     No collar   30   40   45   35    150\n",
       " 3         Total  150  150  200  150    650,\n",
       "                                         vteStatistics  \\\n",
       " 0                                       Outline Index   \n",
       " 1   Descriptive statisticsContinuous dataCenter Me...   \n",
       " 2                              Descriptive statistics   \n",
       " 3   Continuous dataCenter Mean arithmetic geometri...   \n",
       " 4                                     Continuous data   \n",
       " ..                                                ...   \n",
       " 60                                      Biostatistics   \n",
       " 61                             Engineering statistics   \n",
       " 62                                  Social statistics   \n",
       " 63                                 Spatial statistics   \n",
       " 64  Category  Mathematics portal Commons  WikiProject   \n",
       " \n",
       "                                       vteStatistics.1  \n",
       " 0                                       Outline Index  \n",
       " 1   Descriptive statisticsContinuous dataCenter Me...  \n",
       " 2                              Descriptive statistics  \n",
       " 3   Continuous dataCenter Mean arithmetic geometri...  \n",
       " 4   Center Mean arithmetic geometric harmonic Medi...  \n",
       " ..                                                ...  \n",
       " 60  Bioinformatics Clinical trials / studies Epide...  \n",
       " 61  Chemometrics Methods engineering Probabilistic...  \n",
       " 62  Actuarial science Census Crime statistics Demo...  \n",
       " 63  Cartography Environmental statistics Geographi...  \n",
       " 64  Category  Mathematics portal Commons  WikiProject  \n",
       " \n",
       " [65 rows x 2 columns],\n",
       "                               Descriptive statistics  \\\n",
       " 0  Continuous dataCenter Mean arithmetic geometri...   \n",
       " 1                                    Continuous data   \n",
       " 2                                             Center   \n",
       " 3                                         Dispersion   \n",
       " 4                                              Shape   \n",
       " 5                                         Count data   \n",
       " 6                                     Summary tables   \n",
       " 7                                         Dependence   \n",
       " 8                                           Graphics   \n",
       " \n",
       "                             Descriptive statistics.1  \n",
       " 0  Continuous dataCenter Mean arithmetic geometri...  \n",
       " 1  Center Mean arithmetic geometric harmonic Medi...  \n",
       " 2     Mean arithmetic geometric harmonic Median Mode  \n",
       " 3  Variance Standard deviation Coefficient of var...  \n",
       " 4  Central limit theorem Moments Skewness Kurtosi...  \n",
       " 5                                Index of dispersion  \n",
       " 6  Grouped data Frequency distribution Contingenc...  \n",
       " 7  Pearson product-moment correlation Rank correl...  \n",
       " 8  Bar chart Biplot Box plot Control chart Correl...  ,\n",
       "                  0                                                  1\n",
       " 0  Continuous data  Center Mean arithmetic geometric harmonic Medi...\n",
       " 1           Center     Mean arithmetic geometric harmonic Median Mode\n",
       " 2       Dispersion  Variance Standard deviation Coefficient of var...\n",
       " 3            Shape  Central limit theorem Moments Skewness Kurtosi...\n",
       " 4       Count data                                Index of dispersion\n",
       " 5   Summary tables  Grouped data Frequency distribution Contingenc...\n",
       " 6       Dependence  Pearson product-moment correlation Rank correl...\n",
       " 7         Graphics  Bar chart Biplot Box plot Control chart Correl...,\n",
       "             0                                                  1\n",
       " 0      Center     Mean arithmetic geometric harmonic Median Mode\n",
       " 1  Dispersion  Variance Standard deviation Coefficient of var...\n",
       " 2       Shape  Central limit theorem Moments Skewness Kurtosi...,\n",
       "                                      Data collection  \\\n",
       " 0  Study design Population Statistic Effect size ...   \n",
       " 1                                       Study design   \n",
       " 2                                 Survey methodology   \n",
       " 3                             Controlled experiments   \n",
       " 4                                   Adaptive Designs   \n",
       " 5                              Observational Studies   \n",
       " \n",
       "                                    Data collection.1  \n",
       " 0  Study design Population Statistic Effect size ...  \n",
       " 1  Population Statistic Effect size Statistical p...  \n",
       " 2  Sampling stratified cluster Standard error Opi...  \n",
       " 3  Scientific control Randomized experiment Rando...  \n",
       " 4  Adaptive clinical trial Up-and-Down Designs St...  \n",
       " 5  Cross-sectional study Cohort study Natural exp...  ,\n",
       "                         0                                                  1\n",
       " 0            Study design  Population Statistic Effect size Statistical p...\n",
       " 1      Survey methodology  Sampling stratified cluster Standard error Opi...\n",
       " 2  Controlled experiments  Scientific control Randomized experiment Rando...\n",
       " 3        Adaptive Designs  Adaptive clinical trial Up-and-Down Designs St...\n",
       " 4   Observational Studies  Cross-sectional study Cohort study Natural exp...,\n",
       "                                 Statistical inference  \\\n",
       " 0   Statistical theory Population Statistic Probab...   \n",
       " 1                                  Statistical theory   \n",
       " 2                               Frequentist inference   \n",
       " 3                                    Point estimation   \n",
       " 4                                 Interval estimation   \n",
       " 5                                  Testing hypotheses   \n",
       " 6                                    Parametric tests   \n",
       " 7                                      Specific tests   \n",
       " 8             Z-test (normal) Student's t-test F-test   \n",
       " 9                                     Goodness of fit   \n",
       " 10                                    Rank statistics   \n",
       " 11                                 Bayesian inference   \n",
       " \n",
       "                               Statistical inference.1  \n",
       " 0   Statistical theory Population Statistic Probab...  \n",
       " 1   Population Statistic Probability distribution ...  \n",
       " 2   Point estimation Estimating equations Maximum ...  \n",
       " 3   Estimating equations Maximum likelihood Method...  \n",
       " 4   Confidence interval Pivot Likelihood interval ...  \n",
       " 5   1- & 2-tails Power Uniformly most powerful tes...  \n",
       " 6     Likelihood-ratio Score/Lagrange multiplier Wald  \n",
       " 7   Z-test (normal) Student's t-test F-test Goodne...  \n",
       " 8             Z-test (normal) Student's t-test F-test  \n",
       " 9   Chi-squared G-test Kolmogorov–Smirnov Anderson...  \n",
       " 10  Sign Sample median Signed rank (Wilcoxon) Hodg...  \n",
       " 11  Bayesian probability prior posterior Credible ...  ,\n",
       "                                           0  \\\n",
       " 0                        Statistical theory   \n",
       " 1                     Frequentist inference   \n",
       " 2                          Point estimation   \n",
       " 3                       Interval estimation   \n",
       " 4                        Testing hypotheses   \n",
       " 5                          Parametric tests   \n",
       " 6                            Specific tests   \n",
       " 7   Z-test (normal) Student's t-test F-test   \n",
       " 8                           Goodness of fit   \n",
       " 9                           Rank statistics   \n",
       " 10                       Bayesian inference   \n",
       " \n",
       "                                                     1  \n",
       " 0   Population Statistic Probability distribution ...  \n",
       " 1   Point estimation Estimating equations Maximum ...  \n",
       " 2   Estimating equations Maximum likelihood Method...  \n",
       " 3   Confidence interval Pivot Likelihood interval ...  \n",
       " 4   1- & 2-tails Power Uniformly most powerful tes...  \n",
       " 5     Likelihood-ratio Score/Lagrange multiplier Wald  \n",
       " 6   Z-test (normal) Student's t-test F-test Goodne...  \n",
       " 7             Z-test (normal) Student's t-test F-test  \n",
       " 8   Chi-squared G-test Kolmogorov–Smirnov Anderson...  \n",
       " 9   Sign Sample median Signed rank (Wilcoxon) Hodg...  \n",
       " 10  Bayesian probability prior posterior Credible ...  ,\n",
       "                      0                                                  1\n",
       " 0     Point estimation  Estimating equations Maximum likelihood Method...\n",
       " 1  Interval estimation  Confidence interval Pivot Likelihood interval ...\n",
       " 2   Testing hypotheses  1- & 2-tails Power Uniformly most powerful tes...\n",
       " 3     Parametric tests    Likelihood-ratio Score/Lagrange multiplier Wald,\n",
       "                                          0  \\\n",
       " 0  Z-test (normal) Student's t-test F-test   \n",
       " 1                          Goodness of fit   \n",
       " 2                          Rank statistics   \n",
       " \n",
       "                                                    1  \n",
       " 0            Z-test (normal) Student's t-test F-test  \n",
       " 1  Chi-squared G-test Kolmogorov–Smirnov Anderson...  \n",
       " 2  Sign Sample median Signed rank (Wilcoxon) Hodg...  ,\n",
       "                       CorrelationRegression analysis  \\\n",
       " 0  Correlation Pearson product-moment Partial cor...   \n",
       " 1                                        Correlation   \n",
       " 2                                Regression analysis   \n",
       " 3                                  Linear regression   \n",
       " 4                            Non-standard predictors   \n",
       " 5                           Generalized linear model   \n",
       " 6                              Partition of variance   \n",
       " \n",
       "                     CorrelationRegression analysis.1  \n",
       " 0  Correlation Pearson product-moment Partial cor...  \n",
       " 1  Pearson product-moment Partial correlation Con...  \n",
       " 2  Errors and residuals Regression validation Mix...  \n",
       " 3  Simple linear regression Ordinary least square...  \n",
       " 4  Nonlinear regression Nonparametric Semiparamet...  \n",
       " 5  Exponential families Logistic (Bernoulli) / Bi...  \n",
       " 6  Analysis of variance (ANOVA, anova) Analysis o...  ,\n",
       "                           0                                                  1\n",
       " 0               Correlation  Pearson product-moment Partial correlation Con...\n",
       " 1       Regression analysis  Errors and residuals Regression validation Mix...\n",
       " 2         Linear regression  Simple linear regression Ordinary least square...\n",
       " 3   Non-standard predictors  Nonlinear regression Nonparametric Semiparamet...\n",
       " 4  Generalized linear model  Exponential families Logistic (Bernoulli) / Bi...\n",
       " 5     Partition of variance  Analysis of variance (ANOVA, anova) Analysis o...,\n",
       "    Categorical / Multivariate / Time-series / Survival analysis  \\\n",
       " 0   Categorical Cohen's kappa Contingency table Gr...             \n",
       " 1                                         Categorical             \n",
       " 2                                        Multivariate             \n",
       " 3                                         Time-series             \n",
       " 4                                             General             \n",
       " 5                                      Specific tests             \n",
       " 6                                         Time domain             \n",
       " 7                                    Frequency domain             \n",
       " 8                                            Survival             \n",
       " 9                                   Survival function             \n",
       " 10                                    Hazard function             \n",
       " 11                                               Test             \n",
       " \n",
       "    Categorical / Multivariate / Time-series / Survival analysis.1  \n",
       " 0   Categorical Cohen's kappa Contingency table Gr...              \n",
       " 1   Cohen's kappa Contingency table Graphical mode...              \n",
       " 2   Regression Manova Principal components Canonic...              \n",
       " 3   General Decomposition Trend Stationarity Seaso...              \n",
       " 4   Decomposition Trend Stationarity Seasonal adju...              \n",
       " 5   Dickey–Fuller Johansen Q-statistic (Ljung–Box)...              \n",
       " 6   Autocorrelation (ACF) partial (PACF) Cross-cor...              \n",
       " 7   Spectral density estimation Fourier analysis W...              \n",
       " 8   Survival function Kaplan–Meier estimator (prod...              \n",
       " 9   Kaplan–Meier estimator (product limit) Proport...              \n",
       " 10                             Nelson–Aalen estimator              \n",
       " 11                                      Log-rank test              ,\n",
       "                     0                                                  1\n",
       " 0         Categorical  Cohen's kappa Contingency table Graphical mode...\n",
       " 1        Multivariate  Regression Manova Principal components Canonic...\n",
       " 2         Time-series  General Decomposition Trend Stationarity Seaso...\n",
       " 3             General  Decomposition Trend Stationarity Seasonal adju...\n",
       " 4      Specific tests  Dickey–Fuller Johansen Q-statistic (Ljung–Box)...\n",
       " 5         Time domain  Autocorrelation (ACF) partial (PACF) Cross-cor...\n",
       " 6    Frequency domain  Spectral density estimation Fourier analysis W...\n",
       " 7            Survival  Survival function Kaplan–Meier estimator (prod...\n",
       " 8   Survival function  Kaplan–Meier estimator (product limit) Proport...\n",
       " 9     Hazard function                             Nelson–Aalen estimator\n",
       " 10               Test                                      Log-rank test,\n",
       "                   0                                                  1\n",
       " 0           General  Decomposition Trend Stationarity Seasonal adju...\n",
       " 1    Specific tests  Dickey–Fuller Johansen Q-statistic (Ljung–Box)...\n",
       " 2       Time domain  Autocorrelation (ACF) partial (PACF) Cross-cor...\n",
       " 3  Frequency domain  Spectral density estimation Fourier analysis W...,\n",
       "                    0                                                  1\n",
       " 0  Survival function  Kaplan–Meier estimator (product limit) Proport...\n",
       " 1    Hazard function                             Nelson–Aalen estimator\n",
       " 2               Test                                      Log-rank test,\n",
       "                                         Applications  \\\n",
       " 0  Biostatistics Bioinformatics Clinical trials /...   \n",
       " 1                                      Biostatistics   \n",
       " 2                             Engineering statistics   \n",
       " 3                                  Social statistics   \n",
       " 4                                 Spatial statistics   \n",
       " \n",
       "                                       Applications.1  \n",
       " 0  Biostatistics Bioinformatics Clinical trials /...  \n",
       " 1  Bioinformatics Clinical trials / studies Epide...  \n",
       " 2  Chemometrics Methods engineering Probabilistic...  \n",
       " 3  Actuarial science Census Crime statistics Demo...  \n",
       " 4  Cartography Environmental statistics Geographi...  ,\n",
       "                         0                                                  1\n",
       " 0           Biostatistics  Bioinformatics Clinical trials / studies Epide...\n",
       " 1  Engineering statistics  Chemometrics Methods engineering Probabilistic...\n",
       " 2       Social statistics  Actuarial science Census Crime statistics Demo...\n",
       " 3      Spatial statistics  Cartography Environmental statistics Geographi...]"
      ]
     },
     "execution_count": 56,
     "metadata": {},
     "output_type": "execute_result"
    }
   ],
   "source": [
    "table"
   ]
  },
  {
   "cell_type": "code",
   "execution_count": 57,
   "metadata": {},
   "outputs": [
    {
     "data": {
      "text/plain": [
       "list"
      ]
     },
     "execution_count": 57,
     "metadata": {},
     "output_type": "execute_result"
    }
   ],
   "source": [
    "type(table)\n"
   ]
  },
  {
   "cell_type": "code",
   "execution_count": 58,
   "metadata": {},
   "outputs": [],
   "source": [
    "df = pd.DataFrame(table[0])"
   ]
  },
  {
   "cell_type": "code",
   "execution_count": 59,
   "metadata": {},
   "outputs": [
    {
     "data": {
      "text/html": [
       "<div>\n",
       "<style scoped>\n",
       "    .dataframe tbody tr th:only-of-type {\n",
       "        vertical-align: middle;\n",
       "    }\n",
       "\n",
       "    .dataframe tbody tr th {\n",
       "        vertical-align: top;\n",
       "    }\n",
       "\n",
       "    .dataframe thead th {\n",
       "        text-align: right;\n",
       "    }\n",
       "</style>\n",
       "<table border=\"1\" class=\"dataframe\">\n",
       "  <thead>\n",
       "    <tr style=\"text-align: right;\">\n",
       "      <th></th>\n",
       "      <th>Unnamed: 0</th>\n",
       "      <th>A</th>\n",
       "      <th>B</th>\n",
       "      <th>C</th>\n",
       "      <th>D</th>\n",
       "      <th>total</th>\n",
       "    </tr>\n",
       "  </thead>\n",
       "  <tbody>\n",
       "    <tr>\n",
       "      <th>0</th>\n",
       "      <td>White collar</td>\n",
       "      <td>90</td>\n",
       "      <td>60</td>\n",
       "      <td>104</td>\n",
       "      <td>95</td>\n",
       "      <td>349</td>\n",
       "    </tr>\n",
       "    <tr>\n",
       "      <th>1</th>\n",
       "      <td>Blue collar</td>\n",
       "      <td>30</td>\n",
       "      <td>50</td>\n",
       "      <td>51</td>\n",
       "      <td>20</td>\n",
       "      <td>151</td>\n",
       "    </tr>\n",
       "    <tr>\n",
       "      <th>2</th>\n",
       "      <td>No collar</td>\n",
       "      <td>30</td>\n",
       "      <td>40</td>\n",
       "      <td>45</td>\n",
       "      <td>35</td>\n",
       "      <td>150</td>\n",
       "    </tr>\n",
       "    <tr>\n",
       "      <th>3</th>\n",
       "      <td>Total</td>\n",
       "      <td>150</td>\n",
       "      <td>150</td>\n",
       "      <td>200</td>\n",
       "      <td>150</td>\n",
       "      <td>650</td>\n",
       "    </tr>\n",
       "  </tbody>\n",
       "</table>\n",
       "</div>"
      ],
      "text/plain": [
       "     Unnamed: 0    A    B    C    D  total\n",
       "0  White collar   90   60  104   95    349\n",
       "1   Blue collar   30   50   51   20    151\n",
       "2     No collar   30   40   45   35    150\n",
       "3         Total  150  150  200  150    650"
      ]
     },
     "execution_count": 59,
     "metadata": {},
     "output_type": "execute_result"
    }
   ],
   "source": [
    "df"
   ]
  },
  {
   "cell_type": "code",
   "execution_count": 60,
   "metadata": {},
   "outputs": [
    {
     "name": "stdout",
     "output_type": "stream",
     "text": [
      "['White collar', 'Blue collar', 'No collar', 'Total'] [array([90, 60, 104, 95], dtype=object), array([30, 50, 51, 20], dtype=object), array([30, 40, 45, 35], dtype=object), array([150, 150, 200, 150], dtype=object)]\n",
      "Combined [('White collar', array([90, 60, 104, 95], dtype=object)), ('Blue collar', array([30, 50, 51, 20], dtype=object)), ('No collar', array([30, 40, 45, 35], dtype=object)), ('Total', array([150, 150, 200, 150], dtype=object))]\n"
     ]
    }
   ],
   "source": [
    "names = []\n",
    "\n",
    "values = []\n",
    "for i in range(len(df)):\n",
    "    names.append(df.iloc[i][0])\n",
    "    values.append(np.array(df.iloc[i][1:-1]))\n",
    "print(names, values)\n",
    "combined = list(zip(names,values))\n",
    "print('Combined',combined)\n"
   ]
  },
  {
   "cell_type": "code",
   "execution_count": 61,
   "metadata": {},
   "outputs": [
    {
     "name": "stdout",
     "output_type": "stream",
     "text": [
      "<class 'pandas.core.frame.DataFrame'>\n",
      "RangeIndex: 4 entries, 0 to 3\n",
      "Data columns (total 6 columns):\n",
      " #   Column      Non-Null Count  Dtype \n",
      "---  ------      --------------  ----- \n",
      " 0   Unnamed: 0  4 non-null      object\n",
      " 1   A           4 non-null      int64 \n",
      " 2   B           4 non-null      int64 \n",
      " 3   C           4 non-null      int64 \n",
      " 4   D           4 non-null      int64 \n",
      " 5   total       4 non-null      int64 \n",
      "dtypes: int64(5), object(1)\n",
      "memory usage: 320.0+ bytes\n"
     ]
    }
   ],
   "source": [
    "df.info()"
   ]
  },
  {
   "cell_type": "code",
   "execution_count": 62,
   "metadata": {},
   "outputs": [
    {
     "name": "stdout",
     "output_type": "stream",
     "text": [
      "[30 50 51 20]\n"
     ]
    }
   ],
   "source": [
    "print(combined[1][1])"
   ]
  },
  {
   "cell_type": "code",
   "execution_count": 63,
   "metadata": {},
   "outputs": [
    {
     "data": {
      "text/plain": [
       "(24.571202858582602,\n",
       " 0.003483988784534318,\n",
       " 9,\n",
       " array([[ 80.53846154,  80.53846154, 107.38461538,  80.53846154],\n",
       "        [ 34.84615385,  34.84615385,  46.46153846,  34.84615385],\n",
       "        [ 34.61538462,  34.61538462,  46.15384615,  34.61538462],\n",
       "        [150.        , 150.        , 200.        , 150.        ]]))"
      ]
     },
     "execution_count": 63,
     "metadata": {},
     "output_type": "execute_result"
    }
   ],
   "source": [
    "stats.chi2_contingency(values)"
   ]
  },
  {
   "cell_type": "code",
   "execution_count": null,
   "metadata": {},
   "outputs": [],
   "source": []
  },
  {
   "cell_type": "code",
   "execution_count": null,
   "metadata": {},
   "outputs": [],
   "source": []
  }
 ],
 "metadata": {
  "kernelspec": {
   "display_name": "Python 3",
   "language": "python",
   "name": "python3"
  },
  "language_info": {
   "codemirror_mode": {
    "name": "ipython",
    "version": 3
   },
   "file_extension": ".py",
   "mimetype": "text/x-python",
   "name": "python",
   "nbconvert_exporter": "python",
   "pygments_lexer": "ipython3",
   "version": "3.8.3"
  }
 },
 "nbformat": 4,
 "nbformat_minor": 4
}
