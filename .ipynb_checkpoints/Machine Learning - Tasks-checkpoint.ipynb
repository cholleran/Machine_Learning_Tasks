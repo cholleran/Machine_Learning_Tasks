{
 "cells": [
  {
   "cell_type": "code",
   "execution_count": 43,
   "metadata": {},
   "outputs": [],
   "source": [
    "import numpy as np\n",
    "import pandas as pd\n",
    "pd.set_option('display.max_rows', None)\n",
    "from scipy import stats\n",
    "from sklearn.datasets import load_iris\n",
    "import matplotlib.pyplot as plt\n",
    "from sklearn.cluster import KMeans"
   ]
  },
  {
   "cell_type": "markdown",
   "metadata": {},
   "source": [
    "##### Exercise 1."
   ]
  },
  {
   "cell_type": "code",
   "execution_count": 44,
   "metadata": {},
   "outputs": [
    {
     "name": "stdout",
     "output_type": "stream",
     "text": [
      "1.4142135623730951454746218587388284504413604736328125\n"
     ]
    }
   ],
   "source": [
    "from decimal import *\n",
    "# the decimal library can be used to set no. of decimal places\n",
    "getcontext().prec = 100\n",
    "\n",
    "\n",
    "# square root can be written as n to the power of 1/2\n",
    "# the square root is the number that multiplies by itself to give n\n",
    "\n",
    " \n",
    "def sqrt2(n):\n",
    "    return Decimal(n**0.5)\n",
    "\n",
    "print(sqrt2(2))\n"
   ]
  },
  {
   "cell_type": "markdown",
   "metadata": {},
   "source": [
    "**References:**\n",
    "\n",
    "https://docs.python.org/3/library/decimal.html\n",
    "\n",
    "https://www.mathsisfun.com/algebra/square-root.html\n"
   ]
  },
  {
   "cell_type": "markdown",
   "metadata": {},
   "source": [
    "##### Exercise 2."
   ]
  },
  {
   "cell_type": "code",
   "execution_count": 45,
   "metadata": {},
   "outputs": [],
   "source": [
    "table = pd.read_html('https://en.wikipedia.org/wiki/Chi-squared_test')"
   ]
  },
  {
   "cell_type": "code",
   "execution_count": 46,
   "metadata": {},
   "outputs": [],
   "source": [
    "df = pd.DataFrame(table[0])"
   ]
  },
  {
   "cell_type": "code",
   "execution_count": 47,
   "metadata": {},
   "outputs": [
    {
     "data": {
      "text/html": [
       "<div>\n",
       "<style scoped>\n",
       "    .dataframe tbody tr th:only-of-type {\n",
       "        vertical-align: middle;\n",
       "    }\n",
       "\n",
       "    .dataframe tbody tr th {\n",
       "        vertical-align: top;\n",
       "    }\n",
       "\n",
       "    .dataframe thead th {\n",
       "        text-align: right;\n",
       "    }\n",
       "</style>\n",
       "<table border=\"1\" class=\"dataframe\">\n",
       "  <thead>\n",
       "    <tr style=\"text-align: right;\">\n",
       "      <th></th>\n",
       "      <th>Unnamed: 0</th>\n",
       "      <th>A</th>\n",
       "      <th>B</th>\n",
       "      <th>C</th>\n",
       "      <th>D</th>\n",
       "      <th>total</th>\n",
       "    </tr>\n",
       "  </thead>\n",
       "  <tbody>\n",
       "    <tr>\n",
       "      <th>0</th>\n",
       "      <td>White collar</td>\n",
       "      <td>90</td>\n",
       "      <td>60</td>\n",
       "      <td>104</td>\n",
       "      <td>95</td>\n",
       "      <td>349</td>\n",
       "    </tr>\n",
       "    <tr>\n",
       "      <th>1</th>\n",
       "      <td>Blue collar</td>\n",
       "      <td>30</td>\n",
       "      <td>50</td>\n",
       "      <td>51</td>\n",
       "      <td>20</td>\n",
       "      <td>151</td>\n",
       "    </tr>\n",
       "    <tr>\n",
       "      <th>2</th>\n",
       "      <td>No collar</td>\n",
       "      <td>30</td>\n",
       "      <td>40</td>\n",
       "      <td>45</td>\n",
       "      <td>35</td>\n",
       "      <td>150</td>\n",
       "    </tr>\n",
       "    <tr>\n",
       "      <th>3</th>\n",
       "      <td>Total</td>\n",
       "      <td>150</td>\n",
       "      <td>150</td>\n",
       "      <td>200</td>\n",
       "      <td>150</td>\n",
       "      <td>650</td>\n",
       "    </tr>\n",
       "  </tbody>\n",
       "</table>\n",
       "</div>"
      ],
      "text/plain": [
       "     Unnamed: 0    A    B    C    D  total\n",
       "0  White collar   90   60  104   95    349\n",
       "1   Blue collar   30   50   51   20    151\n",
       "2     No collar   30   40   45   35    150\n",
       "3         Total  150  150  200  150    650"
      ]
     },
     "execution_count": 47,
     "metadata": {},
     "output_type": "execute_result"
    }
   ],
   "source": [
    "df"
   ]
  },
  {
   "cell_type": "code",
   "execution_count": 48,
   "metadata": {},
   "outputs": [
    {
     "name": "stdout",
     "output_type": "stream",
     "text": [
      "['White collar', 'Blue collar', 'No collar', 'Total'] [array([90, 60, 104, 95], dtype=object), array([30, 50, 51, 20], dtype=object), array([30, 40, 45, 35], dtype=object), array([150, 150, 200, 150], dtype=object)]\n",
      "Combined [('White collar', array([90, 60, 104, 95], dtype=object)), ('Blue collar', array([30, 50, 51, 20], dtype=object)), ('No collar', array([30, 40, 45, 35], dtype=object)), ('Total', array([150, 150, 200, 150], dtype=object))]\n"
     ]
    }
   ],
   "source": [
    "names = []\n",
    "\n",
    "values = []\n",
    "for i in range(len(df)):\n",
    "    names.append(df.iloc[i][0])\n",
    "    values.append(np.array(df.iloc[i][1:-1]))\n",
    "print(names, values)\n",
    "combined = list(zip(names,values))\n",
    "print('Combined',combined)\n"
   ]
  },
  {
   "cell_type": "code",
   "execution_count": 49,
   "metadata": {},
   "outputs": [
    {
     "name": "stdout",
     "output_type": "stream",
     "text": [
      "<class 'pandas.core.frame.DataFrame'>\n",
      "RangeIndex: 4 entries, 0 to 3\n",
      "Data columns (total 6 columns):\n",
      " #   Column      Non-Null Count  Dtype \n",
      "---  ------      --------------  ----- \n",
      " 0   Unnamed: 0  4 non-null      object\n",
      " 1   A           4 non-null      int64 \n",
      " 2   B           4 non-null      int64 \n",
      " 3   C           4 non-null      int64 \n",
      " 4   D           4 non-null      int64 \n",
      " 5   total       4 non-null      int64 \n",
      "dtypes: int64(5), object(1)\n",
      "memory usage: 320.0+ bytes\n"
     ]
    }
   ],
   "source": [
    "df.info()"
   ]
  },
  {
   "cell_type": "code",
   "execution_count": 50,
   "metadata": {},
   "outputs": [
    {
     "name": "stdout",
     "output_type": "stream",
     "text": [
      "[30 50 51 20]\n",
      "[array([90, 60, 104, 95], dtype=object), array([30, 50, 51, 20], dtype=object), array([30, 40, 45, 35], dtype=object), array([150, 150, 200, 150], dtype=object)]\n"
     ]
    }
   ],
   "source": [
    "print(combined[1][1])\n",
    "print(values)"
   ]
  },
  {
   "cell_type": "code",
   "execution_count": 51,
   "metadata": {},
   "outputs": [
    {
     "data": {
      "text/plain": [
       "(24.571202858582602,\n",
       " 0.003483988784534318,\n",
       " 9,\n",
       " array([[ 80.53846154,  80.53846154, 107.38461538,  80.53846154],\n",
       "        [ 34.84615385,  34.84615385,  46.46153846,  34.84615385],\n",
       "        [ 34.61538462,  34.61538462,  46.15384615,  34.61538462],\n",
       "        [150.        , 150.        , 200.        , 150.        ]]))"
      ]
     },
     "execution_count": 51,
     "metadata": {},
     "output_type": "execute_result"
    }
   ],
   "source": [
    "stats.chi2_contingency(values)"
   ]
  },
  {
   "cell_type": "markdown",
   "metadata": {},
   "source": [
    "### Chi Stat and Chi-square Test\n",
    "**The Chi Stat is 24.57** from the above output which verifies the value given in the Wikipedia article. The Chi stat is calculated by analysing the difference between the observed and expected distributions.  Χ2 = Σ (O − E)2E / E\n",
    "\n",
    "The chi-square test is used to test for a possible relationship between variables.  The more the observations differ from the expected distribution, the greater the chance that the variables are dependent.\n",
    "\n",
    "\n",
    "\n"
   ]
  },
  {
   "cell_type": "markdown",
   "metadata": {},
   "source": [
    "### Degrees of Freedom\n",
    "The degrees of freedom is 9 in this the above table. This is a measure of how many independent observations can be made. Generally, the higher the degrees of freedom is, the more relevant the Chi Square test will be.\n",
    "\n",
    "Degrees of freedom is used in the calculation of the P value"
   ]
  },
  {
   "cell_type": "markdown",
   "metadata": {},
   "source": [
    "### The P Value\n",
    "**The P-value is 0.003** which indicates that neighbourhood (A,B,C,D) and type of worker living there are not independent. The difference between the expected distribution of types of worker in each area and the actual distribution is large enough to indicate that the neighbourhood and category of worker are"
   ]
  },
  {
   "cell_type": "markdown",
   "metadata": {},
   "source": [
    "### References:\n",
    "\n",
    "https://docs.scipy.org/doc/scipy/reference/generated/scipy.stats.chi2_contingency.html\n",
    "\n",
    "https://towardsdatascience.com/running-chi-square-tests-in-python-with-die-roll-data-b9903817c51b\n",
    "\n",
    "https://www.investopedia.com/terms/d/degrees-of-freedom.asp\n",
    "\n",
    "https://towardsdatascience.com/chi-squared-test-for-feature-selection-with-implementation-in-python-65b4ae7696db\n",
    "\n",
    "https://www.mathsisfun.com/data/chi-square-test.html\n",
    "\n",
    "https://machinelearningmastery.com/chi-squared-test-for-machine-learning/\n",
    "\n"
   ]
  },
  {
   "cell_type": "markdown",
   "metadata": {},
   "source": [
    "##### Exercise 3."
   ]
  },
  {
   "cell_type": "markdown",
   "metadata": {},
   "source": [
    "\n",
    "### Excel Function STDEV.P\n",
    "\n",
    "The Excel function **STDEV.P** calculates the Standard Deviation when the values for every member of a population is known and we wish to know the standard deviation.  The function takes every member of an array representing the entire population as its arguments.  Importantly, in contrast with STDEV.S, this function uses the \"n\" method and the following formula √[∑(x - x̃)²/n]  .\n"
   ]
  },
  {
   "cell_type": "markdown",
   "metadata": {},
   "source": [
    "### Excel Function STDEV.S\n",
    "\n",
    "**STDEV.S** is an Excel function which calculates the Standard Deviation of a sample contained within a population. For most real-life scenarios, this is the best way to calculate the standard deviation as very often we do not have access to the entire target population.  This function uses the \"n-1\" method. \"n-1\" is a type of correction when calculating the standard deviation from only a sample of the total population.  The observed values are usually closer to the sample mean than to the real population mean.  Therefore using \"n-1\" corrects for this anticipated error by making the standard deviation larger."
   ]
  },
  {
   "cell_type": "markdown",
   "metadata": {},
   "source": [
    "### numpy Simulation\n",
    "\n"
   ]
  },
  {
   "cell_type": "code",
   "execution_count": 52,
   "metadata": {},
   "outputs": [
    {
     "name": "stdout",
     "output_type": "stream",
     "text": [
      "Actual Standard Deviation: 2932.630165825921\n",
      "Sample Standard Deviation STDEV_P: 2885.83060164795\n",
      "Sample Standard Deviation STDEV_S: 2935.1646129143405\n"
     ]
    }
   ],
   "source": [
    "# Generate random 1d array as population\n",
    "\n",
    "\n",
    "STDEV_P = 0\n",
    "STDEV_S = 0\n",
    "actual = 0\n",
    "# calculate std dev of population using \"n\" method (default in numpy)\n",
    "# this figure represents the actual standard deviation!\n",
    "\n",
    "\n",
    "for i in range(10):\n",
    "    # Generate random 1d array as population\n",
    "    population = np.random.randint(1,1000,80)\n",
    "\n",
    "    n_method = np.std(population)\n",
    "    actual += n_method\n",
    "\n",
    "    # take a sample of the population\n",
    "\n",
    "    sample = np.random.choice(population,30)\n",
    "\n",
    "\n",
    "    # calculate std deviation of sample using  \"n\" method\n",
    "\n",
    "\n",
    "    n_method_sample = np.std(sample)\n",
    "    STDEV_P += n_method_sample\n",
    "\n",
    "\n",
    "    # calculate std deviatian of sample using \"n-1\"\n",
    "\n",
    "    n_1_method_sample = np.std(sample, ddof =1)\n",
    "    STDEV_S += n_1_method_sample\n",
    "\n",
    "    \n",
    "print(\"Actual Standard Deviation: {}\\nSample Standard Deviation STDEV_P: {}\\nSample Standard Deviation STDEV_S: {}\".format(actual,STDEV_P,STDEV_S))\n",
    "\n",
    "     \n",
    "\n",
    "\n"
   ]
  },
  {
   "cell_type": "code",
   "execution_count": 53,
   "metadata": {},
   "outputs": [
    {
     "data": {
      "text/plain": [
       "array([1341, 4923, 5401, 7973, 5820, 6352, 1967, 4793, 2172, 8983, 1076,\n",
       "       6412, 2798, 4296,  622, 6982, 5310,  720, 1454, 7379, 1417, 3525,\n",
       "       2221, 6542, 3634, 9649, 9968, 8792, 2332, 6500,  297, 7886, 4020,\n",
       "       9593, 8328, 6550, 1537, 7644, 4189, 2063, 7562, 4925, 3944, 2869,\n",
       "       2710, 5592, 5474, 7155, 5277,  617, 5354, 9262, 3292, 7917, 9382,\n",
       "        882, 3966, 9369, 5353, 5672,  997, 2081, 7710, 2723, 2092, 4221,\n",
       "       8481, 4641, 5832, 4906, 2406, 9287, 4197, 5544, 9527, 7440, 7006,\n",
       "       4722, 6104,  323])"
      ]
     },
     "execution_count": 53,
     "metadata": {},
     "output_type": "execute_result"
    }
   ],
   "source": [
    "# Generate random 1d array as population\n",
    "\n",
    "\n",
    "population = np.random.randint(1,10000,80)\n",
    "population"
   ]
  },
  {
   "cell_type": "code",
   "execution_count": 54,
   "metadata": {},
   "outputs": [
    {
     "name": "stdout",
     "output_type": "stream",
     "text": [
      "STDEV.S was more accurate in 53.8 % of trials\n"
     ]
    }
   ],
   "source": [
    "# calculate std dev of population using \"n\" method (default in numpy)\n",
    "# this figure represents the actual standard deviation!\n",
    "results = []\n",
    "for i in range(500):\n",
    "    \n",
    "    actual = np.std(population)\n",
    " \n",
    "\n",
    "    # take a sample of the population\n",
    "\n",
    "    sample = np.random.choice(population,100)\n",
    "    sample\n",
    "\n",
    "    # calculate std deviation of sample using  STDEV.P (\"n\" method) \n",
    "\n",
    "    STDEV_P = np.std(sample)\n",
    "\n",
    "    error_STDEV_P =  abs(actual - STDEV_P) \n",
    "    error_STDEV_P\n",
    "\n",
    "    # calculate std deviatian of sample using STDEV.S (\"n-1\" method)\n",
    "\n",
    "    STDEV_S = np.std(sample, ddof =1)\n",
    "    error_STDEV_S = abs(actual - STDEV_S) \n",
    "    error_STDEV_S\n",
    "\n",
    "    hypothesis = abs(error_STDEV_S < error_STDEV_P)\n",
    "\n",
    "    results.append(hypothesis)\n",
    "\n",
    "print(\"STDEV.S was more accurate in {0:.3} % of trials\".format(int(results.count(True))/ 500* 100)) "
   ]
  },
  {
   "cell_type": "markdown",
   "metadata": {},
   "source": [
    "### References:\n",
    "\n",
    "https://support.microsoft.com/en-us/office/stdev-p-function-6e917c05-31a0-496f-ade7-4f4e7462f285\n",
    "\n",
    "https://stats.stackexchange.com/questions/3931/intuitive-explanation-for-dividing-by-n-1-when-calculating-standard-deviation#:~:text=The%20standard%20deviation%20calculated%20with%20a%20divisor%20of,the%20population%20from%20which%20the%20sample%20was%20drawn.\n",
    "\n",
    "https://honingds.com/blog/python-standard-deviation/#:~:text=numpy%20uses%20population%20standard%20deviation%20by%20default%2C%20which,using%20numpy.std%20for%20a%20sample%20of%20the%20data.\n",
    "\n",
    "https://docs.scipy.org/doc/numpy-1.15.0/reference/generated/numpy.random.choice.html"
   ]
  },
  {
   "cell_type": "markdown",
   "metadata": {},
   "source": [
    "#### Exercise 4."
   ]
  },
  {
   "attachments": {
    "Screenshot%202020-12-18%20233941.png": {
     "image/png": "[encoded data removed]"
    }
   },
   "cell_type": "markdown",
   "metadata": {},
   "source": [
    "**K-Means clustering** is an unsupervised algorithm which groups datapoints into clusters according to their proximity to centroids, which the algorithm calculates.  These are the nucleus of each cluster determined by the algorithm.\n",
    "\n",
    "One of the difficulties with K-means clustering is determining how many clusters are present in the data. Each cluster represents a category of data such as as a Species of Iris. The elbow algorithm can be used to optimise the K number, but this was not nescessary with the Iris dataset as we already know that k=3.\n",
    "\n",
    "Instead, I created a k-means model using Sklearn creating 3 clusters and tested the % of correct predictions. At the time of testing the accuracy of the model was 89.33%\n",
    "\n",
    "![Screenshot%202020-12-18%20233941.png](attachment:Screenshot%202020-12-18%20233941.png)\n",
    "\n"
   ]
  },
  {
   "cell_type": "code",
   "execution_count": 55,
   "metadata": {},
   "outputs": [],
   "source": [
    "iris = load_iris()\n",
    "iris.data\n",
    "iris.feature_names\n",
    "iris.target\n",
    "iris.target_names\n",
    "\n",
    "df = pd.DataFrame(data = iris.data, columns = iris.feature_names)\n",
    "\n",
    "df['Species'] = iris['target']\n",
    "df['Species'] = df['Species'].apply(lambda x: iris['target_names'][x]) # [3]\n",
    "df.head()\n",
    "x = df.iloc[:, [0,1,2,3]].values\n"
   ]
  },
  {
   "cell_type": "code",
   "execution_count": 70,
   "metadata": {},
   "outputs": [
    {
     "data": {
      "text/plain": [
       "array(['setosa', 'versicolor', 'virginica'], dtype='<U10')"
      ]
     },
     "execution_count": 70,
     "metadata": {},
     "output_type": "execute_result"
    }
   ],
   "source": [
    "iris.target_names\n",
    "# The target names were matched manually with the clusters\n"
   ]
  },
  {
   "cell_type": "code",
   "execution_count": 68,
   "metadata": {},
   "outputs": [
    {
     "name": "stdout",
     "output_type": "stream",
     "text": [
      "[0 0 0 0 0 0 0 0 0 0 0 0 0 0 0 0 0 0 0 0 0 0 0 0 0 0 0 0 0 0 0 0 0 0 0 0 0\n",
      " 0 0 0 0 0 0 0 0 0 0 0 0 0 1 1 2 1 1 1 1 1 1 1 1 1 1 1 1 1 1 1 1 1 1 1 1 1\n",
      " 1 1 1 2 1 1 1 1 1 1 1 1 1 1 1 1 1 1 1 1 1 1 1 1 1 1 2 1 2 2 2 2 1 2 2 2 2\n",
      " 2 2 1 1 2 2 2 2 1 2 1 2 1 2 2 1 1 2 2 2 2 2 1 2 2 2 2 1 2 2 2 1 2 2 2 1 2\n",
      " 2 1]\n"
     ]
    },
    {
     "data": {
      "text/plain": [
       "array([[5.006     , 3.428     , 1.462     , 0.246     ],\n",
       "       [5.9016129 , 2.7483871 , 4.39354839, 1.43387097],\n",
       "       [6.85      , 3.07368421, 5.74210526, 2.07105263]])"
      ]
     },
     "execution_count": 68,
     "metadata": {},
     "output_type": "execute_result"
    }
   ],
   "source": [
    "kmeans = KMeans(n_clusters=3)  #[2]\n",
    "x = df.iloc[:, [0,1,2,3]].values\n",
    "y_kmeans = kmeans.fit_predict(x)\n",
    "print(y_kmeans)\n",
    "\n",
    "kmeans.cluster_centers_"
   ]
  },
  {
   "cell_type": "code",
   "execution_count": 67,
   "metadata": {},
   "outputs": [
    {
     "name": "stdout",
     "output_type": "stream",
     "text": [
      "[1 1 1 1 1 1 1 1 1 1 1 1 1 1 1 1 1 1 1 1 1 1 1 1 1 1 1 1 1 1 1 1 1 1 1 1 1\n",
      " 1 1 1 1 1 1 1 1 1 1 1 1 1 0 0 2 0 0 0 0 0 0 0 0 0 0 0 0 0 0 0 0 0 0 0 0 0\n",
      " 0 0 0 2 0 0 0 0 0 0 0 0 0 0 0 0 0 0 0 0 0 0 0 0 0 0 2 0 2 2 2 2 0 2 2 2 2\n",
      " 2 2 0 0 2 2 2 2 0 2 0 2 0 2 2 0 0 2 2 2 2 2 0 2 2 2 2 0 2 2 2 0 2 2 2 0 2\n",
      " 2 0]\n"
     ]
    },
    {
     "data": {
      "image/png": "[encoded data removed]",
      "text/plain": [
       "<Figure size 432x288 with 1 Axes>"
      ]
     },
     "metadata": {
      "needs_background": "light"
     },
     "output_type": "display_data"
    }
   ],
   "source": [
    "plt.scatter(x[:,0], x[:,1], c=y_kmeans, cmap='rainbow')\n",
    "df['prediction'] = y_kmeans\n",
    "print(y_kmeans)"
   ]
  },
  {
   "cell_type": "code",
   "execution_count": 72,
   "metadata": {},
   "outputs": [
    {
     "data": {
      "text/html": [
       "<div>\n",
       "<style scoped>\n",
       "    .dataframe tbody tr th:only-of-type {\n",
       "        vertical-align: middle;\n",
       "    }\n",
       "\n",
       "    .dataframe tbody tr th {\n",
       "        vertical-align: top;\n",
       "    }\n",
       "\n",
       "    .dataframe thead th {\n",
       "        text-align: right;\n",
       "    }\n",
       "</style>\n",
       "<table border=\"1\" class=\"dataframe\">\n",
       "  <thead>\n",
       "    <tr style=\"text-align: right;\">\n",
       "      <th></th>\n",
       "      <th>sepal length (cm)</th>\n",
       "      <th>sepal width (cm)</th>\n",
       "      <th>petal length (cm)</th>\n",
       "      <th>petal width (cm)</th>\n",
       "      <th>Species</th>\n",
       "      <th>prediction</th>\n",
       "      <th>correct</th>\n",
       "    </tr>\n",
       "  </thead>\n",
       "  <tbody>\n",
       "    <tr>\n",
       "      <th>0</th>\n",
       "      <td>5.1</td>\n",
       "      <td>3.5</td>\n",
       "      <td>1.4</td>\n",
       "      <td>0.2</td>\n",
       "      <td>setosa</td>\n",
       "      <td>setosa</td>\n",
       "      <td>True</td>\n",
       "    </tr>\n",
       "    <tr>\n",
       "      <th>1</th>\n",
       "      <td>4.9</td>\n",
       "      <td>3.0</td>\n",
       "      <td>1.4</td>\n",
       "      <td>0.2</td>\n",
       "      <td>setosa</td>\n",
       "      <td>setosa</td>\n",
       "      <td>True</td>\n",
       "    </tr>\n",
       "    <tr>\n",
       "      <th>2</th>\n",
       "      <td>4.7</td>\n",
       "      <td>3.2</td>\n",
       "      <td>1.3</td>\n",
       "      <td>0.2</td>\n",
       "      <td>setosa</td>\n",
       "      <td>setosa</td>\n",
       "      <td>True</td>\n",
       "    </tr>\n",
       "    <tr>\n",
       "      <th>3</th>\n",
       "      <td>4.6</td>\n",
       "      <td>3.1</td>\n",
       "      <td>1.5</td>\n",
       "      <td>0.2</td>\n",
       "      <td>setosa</td>\n",
       "      <td>setosa</td>\n",
       "      <td>True</td>\n",
       "    </tr>\n",
       "    <tr>\n",
       "      <th>4</th>\n",
       "      <td>5.0</td>\n",
       "      <td>3.6</td>\n",
       "      <td>1.4</td>\n",
       "      <td>0.2</td>\n",
       "      <td>setosa</td>\n",
       "      <td>setosa</td>\n",
       "      <td>True</td>\n",
       "    </tr>\n",
       "  </tbody>\n",
       "</table>\n",
       "</div>"
      ],
      "text/plain": [
       "   sepal length (cm)  sepal width (cm)  petal length (cm)  petal width (cm)  \\\n",
       "0                5.1               3.5                1.4               0.2   \n",
       "1                4.9               3.0                1.4               0.2   \n",
       "2                4.7               3.2                1.3               0.2   \n",
       "3                4.6               3.1                1.5               0.2   \n",
       "4                5.0               3.6                1.4               0.2   \n",
       "\n",
       "  Species prediction  correct  \n",
       "0  setosa     setosa     True  \n",
       "1  setosa     setosa     True  \n",
       "2  setosa     setosa     True  \n",
       "3  setosa     setosa     True  \n",
       "4  setosa     setosa     True  "
      ]
     },
     "execution_count": 72,
     "metadata": {},
     "output_type": "execute_result"
    }
   ],
   "source": [
    "\n",
    "df.head()\n"
   ]
  },
  {
   "cell_type": "code",
   "execution_count": 73,
   "metadata": {},
   "outputs": [
    {
     "name": "stdout",
     "output_type": "stream",
     "text": [
      "The accuracy of the KMeans model in predicting Iris Species is: 89.33%\n"
     ]
    }
   ],
   "source": [
    "\n",
    "df.loc[df['prediction'] ==  1, 'prediction'] = 'setosa'\n",
    "df.loc[df['prediction'] ==  0, 'prediction'] = 'versicolor'\n",
    "df.loc[df['prediction'] ==  2, 'prediction'] = 'virginica'\n",
    "\n",
    "df['correct'] = df['Species'] == df['prediction']\n",
    "\n",
    "df\n",
    "\n",
    "accuracy = sum(df['correct'] == True)\n",
    "\n",
    "accuracy \n",
    "\n",
    "print('The accuracy of the KMeans model in predicting Iris Species is: {}%'.format(round(accuracy/150 * 100,2)))\n",
    "\n"
   ]
  },
  {
   "cell_type": "markdown",
   "metadata": {},
   "source": [
    "[1] https://www.datasciencelearner.com/k-means-clustering-in-python-label-dataset/#:~:text=%20K%20Means%20Clustering%20in%20Python%20%3A%20Label,can%20also%20use%20your%20own%20dataset.%20More%20\n",
    "\n",
    "[2] https://heartbeat.fritz.ai/k-means-clustering-using-sklearn-and-python-4a054d67b187\n",
    "\n",
    "[3] https://medium.com/@harimittapalli/exploratory-data-analysis-iris-dataset-9920ea439a3e"
   ]
  },
  {
   "cell_type": "code",
   "execution_count": null,
   "metadata": {},
   "outputs": [],
   "source": []
  }
 ],
 "metadata": {
  "kernelspec": {
   "display_name": "Python 3",
   "language": "python",
   "name": "python3"
  },
  "language_info": {
   "codemirror_mode": {
    "name": "ipython",
    "version": 3
   },
   "file_extension": ".py",
   "mimetype": "text/x-python",
   "name": "python",
   "nbconvert_exporter": "python",
   "pygments_lexer": "ipython3",
   "version": "3.8.3"
  }
 },
 "nbformat": 4,
 "nbformat_minor": 4
}
